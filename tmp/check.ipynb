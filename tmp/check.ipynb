{
 "cells": [
  {
   "cell_type": "code",
   "execution_count": null,
   "metadata": {},
   "outputs": [],
   "source": [
    "%load_ext autoreload\n",
    "%autoreload 2"
   ]
  },
  {
   "cell_type": "code",
   "execution_count": null,
   "metadata": {},
   "outputs": [],
   "source": [
    "%pip install -qq pandas matplotlib"
   ]
  },
  {
   "cell_type": "code",
   "execution_count": null,
   "metadata": {},
   "outputs": [],
   "source": [
    "import time\n",
    "from itertools import product\n",
    "\n",
    "import matplotlib.pyplot as plt\n",
    "import numpy as np\n",
    "import pandas as pd\n",
    "import torch\n",
    "from tqdm import tqdm\n",
    "\n",
    "from sklearn.decomposition import FastICA\n"
   ]
  },
  {
   "cell_type": "code",
   "execution_count": 3,
   "metadata": {},
   "outputs": [],
   "source": [
    "def logcosh_cuda(x):\n",
    "    gx = torch.tanh(x)\n",
    "    g_x = (1 - gx**2).mean(dim=1)\n",
    "    return gx, g_x\n",
    "\n",
    "\n",
    "ica_np = FastICA(\n",
    "    n_components=None,\n",
    "    random_state=0,\n",
    "    algorithm=\"parallel\",\n",
    "    whiten=False,\n",
    "    max_iter=20,\n",
    ")\n",
    "ica_torch = FastICA(\n",
    "    n_components=None,\n",
    "    random_state=0,\n",
    "    algorithm=\"torch\",\n",
    "    whiten=False,\n",
    "    max_iter=20,\n",
    "    fun=logcosh_cuda,\n",
    ")"
   ]
  },
  {
   "cell_type": "code",
   "execution_count": null,
   "metadata": {},
   "outputs": [
    {
     "name": "stderr",
     "output_type": "stream",
     "text": [
      "  0%|          | 0/5 [00:00<?, ?it/s]"
     ]
    },
    {
     "name": "stdout",
     "output_type": "stream",
     "text": [
      "1000 1000\n"
     ]
    },
    {
     "name": "stderr",
     "output_type": "stream",
     "text": [
      "100%|██████████| 20/20 [00:02<00:00,  9.09it/s]\n",
      "/home/yuji96/scikit-learn/sklearn/decomposition/_fastica_torch.py:61: ConvergenceWarning: FastICA did not converge. Consider increasing tolerance or the maximum number of iterations.\n",
      "  warnings.warn(\n",
      "100%|██████████| 20/20 [00:26<00:00,  1.35s/it]\n",
      "/home/yuji96/scikit-learn/sklearn/decomposition/_fastica.py:128: ConvergenceWarning: FastICA did not converge. Consider increasing tolerance or the maximum number of iterations.\n",
      "  warnings.warn(\n",
      " 20%|██        | 1/5 [00:33<02:13, 33.46s/it]"
     ]
    },
    {
     "name": "stdout",
     "output_type": "stream",
     "text": [
      "10000 1000\n"
     ]
    },
    {
     "name": "stderr",
     "output_type": "stream",
     "text": [
      "100%|██████████| 20/20 [00:04<00:00,  4.01it/s]\n",
      "/home/yuji96/scikit-learn/sklearn/decomposition/_fastica_torch.py:61: ConvergenceWarning: FastICA did not converge. Consider increasing tolerance or the maximum number of iterations.\n",
      "  warnings.warn(\n",
      "100%|██████████| 20/20 [00:24<00:00,  1.21s/it]\n",
      "/home/yuji96/scikit-learn/sklearn/decomposition/_fastica.py:128: ConvergenceWarning: FastICA did not converge. Consider increasing tolerance or the maximum number of iterations.\n",
      "  warnings.warn(\n",
      " 40%|████      | 2/5 [01:07<01:41, 33.96s/it]"
     ]
    },
    {
     "name": "stdout",
     "output_type": "stream",
     "text": [
      "100000 1000\n"
     ]
    },
    {
     "name": "stderr",
     "output_type": "stream",
     "text": [
      "100%|██████████| 20/20 [00:18<00:00,  1.10it/s]\n",
      "/home/yuji96/scikit-learn/sklearn/decomposition/_fastica_torch.py:61: ConvergenceWarning: FastICA did not converge. Consider increasing tolerance or the maximum number of iterations.\n",
      "  warnings.warn(\n",
      "100%|██████████| 20/20 [01:10<00:00,  3.53s/it]\n",
      "/home/yuji96/scikit-learn/sklearn/decomposition/_fastica.py:128: ConvergenceWarning: FastICA did not converge. Consider increasing tolerance or the maximum number of iterations.\n",
      "  warnings.warn(\n",
      " 60%|██████    | 3/5 [02:48<02:08, 64.32s/it]"
     ]
    },
    {
     "name": "stdout",
     "output_type": "stream",
     "text": [
      "1000 10\n"
     ]
    },
    {
     "name": "stderr",
     "output_type": "stream",
     "text": [
      "100%|██████████| 20/20 [00:00<00:00, 179.51it/s]\n",
      "/home/yuji96/scikit-learn/sklearn/decomposition/_fastica_torch.py:61: ConvergenceWarning: FastICA did not converge. Consider increasing tolerance or the maximum number of iterations.\n",
      "  warnings.warn(\n",
      "100%|██████████| 20/20 [00:00<00:00, 1263.19it/s]\n",
      "/home/yuji96/scikit-learn/sklearn/decomposition/_fastica.py:128: ConvergenceWarning: FastICA did not converge. Consider increasing tolerance or the maximum number of iterations.\n",
      "  warnings.warn(\n",
      " 80%|████████  | 4/5 [02:48<00:39, 39.00s/it]"
     ]
    },
    {
     "name": "stdout",
     "output_type": "stream",
     "text": [
      "1000 100\n"
     ]
    },
    {
     "name": "stderr",
     "output_type": "stream",
     "text": [
      "100%|██████████| 20/20 [00:00<00:00, 166.04it/s]\n",
      "/home/yuji96/scikit-learn/sklearn/decomposition/_fastica_torch.py:61: ConvergenceWarning: FastICA did not converge. Consider increasing tolerance or the maximum number of iterations.\n",
      "  warnings.warn(\n",
      "100%|██████████| 20/20 [00:07<00:00,  2.60it/s]\n",
      "/home/yuji96/scikit-learn/sklearn/decomposition/_fastica.py:128: ConvergenceWarning: FastICA did not converge. Consider increasing tolerance or the maximum number of iterations.\n",
      "  warnings.warn(\n",
      "100%|██████████| 5/5 [02:57<00:00, 35.42s/it]\n"
     ]
    }
   ],
   "source": [
    "fix_features = product([1000, 10000, 100000], [1000])\n",
    "fix_samples = product([1000], [10, 100])\n",
    "params = list(fix_features) + list(fix_samples)\n",
    "\n",
    "\n",
    "results = []\n",
    "for n_samples, n_features in tqdm(params):\n",
    "    print(n_samples, n_features)\n",
    "    assert n_samples >= n_features\n",
    "    # https://github.com/scikit-learn/scikit-learn/blob/56bbb5aeda441f3d5c129cd56c65bb1f09d7bb65/sklearn/decomposition/_fastica.py#L594-L600\n",
    "\n",
    "    np.random.seed(0)\n",
    "    X = np.random.randn(n_samples, n_features)\n",
    "    start_torch = time.perf_counter()\n",
    "    Y_torch = ica_torch.fit_transform(X)\n",
    "    end_torch = time.perf_counter()\n",
    "\n",
    "    start_np = time.perf_counter()\n",
    "    Y_np = ica_np.fit_transform(X)\n",
    "    end_np = time.perf_counter()\n",
    "\n",
    "    diff = np.abs(Y_torch - Y_np)\n",
    "\n",
    "    results.append(\n",
    "        dict(\n",
    "            n_samples=n_samples,\n",
    "            n_features=n_features,\n",
    "            torch=end_torch - start_torch,\n",
    "            np=end_np - start_np,\n",
    "            diff_max=diff.max(),\n",
    "            diff_mean=diff.mean(),\n",
    "            diff_std=diff.std(),\n",
    "            diff_norm=np.linalg.norm(diff),\n",
    "        )\n",
    "    )"
   ]
  },
  {
   "cell_type": "code",
   "execution_count": null,
   "metadata": {},
   "outputs": [
    {
     "data": {
      "text/html": [
       "<div>\n",
       "<style scoped>\n",
       "    .dataframe tbody tr th:only-of-type {\n",
       "        vertical-align: middle;\n",
       "    }\n",
       "\n",
       "    .dataframe tbody tr th {\n",
       "        vertical-align: top;\n",
       "    }\n",
       "\n",
       "    .dataframe thead th {\n",
       "        text-align: right;\n",
       "    }\n",
       "</style>\n",
       "<table border=\"1\" class=\"dataframe\">\n",
       "  <thead>\n",
       "    <tr style=\"text-align: right;\">\n",
       "      <th></th>\n",
       "      <th>n_samples</th>\n",
       "      <th>n_features</th>\n",
       "      <th>torch</th>\n",
       "      <th>np</th>\n",
       "      <th>diff_max</th>\n",
       "      <th>diff_mean</th>\n",
       "      <th>diff_std</th>\n",
       "      <th>diff_norm</th>\n",
       "    </tr>\n",
       "  </thead>\n",
       "  <tbody>\n",
       "    <tr>\n",
       "      <th>0</th>\n",
       "      <td>1000</td>\n",
       "      <td>1000</td>\n",
       "      <td>4.472020</td>\n",
       "      <td>28.941629</td>\n",
       "      <td>9.233792e-10</td>\n",
       "      <td>5.429430e-11</td>\n",
       "      <td>4.955724e-11</td>\n",
       "      <td>7.351048e-08</td>\n",
       "    </tr>\n",
       "    <tr>\n",
       "      <th>1</th>\n",
       "      <td>10000</td>\n",
       "      <td>1000</td>\n",
       "      <td>7.785975</td>\n",
       "      <td>26.069959</td>\n",
       "      <td>2.269028e-08</td>\n",
       "      <td>3.021932e-09</td>\n",
       "      <td>2.298259e-09</td>\n",
       "      <td>1.200586e-05</td>\n",
       "    </tr>\n",
       "    <tr>\n",
       "      <th>2</th>\n",
       "      <td>100000</td>\n",
       "      <td>1000</td>\n",
       "      <td>22.554698</td>\n",
       "      <td>73.989594</td>\n",
       "      <td>5.175549e-08</td>\n",
       "      <td>6.411472e-09</td>\n",
       "      <td>4.869321e-09</td>\n",
       "      <td>8.050916e-05</td>\n",
       "    </tr>\n",
       "    <tr>\n",
       "      <th>3</th>\n",
       "      <td>1000</td>\n",
       "      <td>10</td>\n",
       "      <td>0.141223</td>\n",
       "      <td>0.024389</td>\n",
       "      <td>8.483325e-12</td>\n",
       "      <td>8.879595e-13</td>\n",
       "      <td>9.992628e-13</td>\n",
       "      <td>1.336786e-10</td>\n",
       "    </tr>\n",
       "    <tr>\n",
       "      <th>4</th>\n",
       "      <td>1000</td>\n",
       "      <td>100</td>\n",
       "      <td>0.298714</td>\n",
       "      <td>8.389551</td>\n",
       "      <td>1.980372e-09</td>\n",
       "      <td>2.521014e-10</td>\n",
       "      <td>1.986777e-10</td>\n",
       "      <td>1.015027e-07</td>\n",
       "    </tr>\n",
       "  </tbody>\n",
       "</table>\n",
       "</div>"
      ],
      "text/plain": [
       "   n_samples  n_features      torch         np      diff_max     diff_mean  \\\n",
       "0       1000        1000   4.472020  28.941629  9.233792e-10  5.429430e-11   \n",
       "1      10000        1000   7.785975  26.069959  2.269028e-08  3.021932e-09   \n",
       "2     100000        1000  22.554698  73.989594  5.175549e-08  6.411472e-09   \n",
       "3       1000          10   0.141223   0.024389  8.483325e-12  8.879595e-13   \n",
       "4       1000         100   0.298714   8.389551  1.980372e-09  2.521014e-10   \n",
       "\n",
       "       diff_std     diff_norm  \n",
       "0  4.955724e-11  7.351048e-08  \n",
       "1  2.298259e-09  1.200586e-05  \n",
       "2  4.869321e-09  8.050916e-05  \n",
       "3  9.992628e-13  1.336786e-10  \n",
       "4  1.986777e-10  1.015027e-07  "
      ]
     },
     "execution_count": 20,
     "metadata": {},
     "output_type": "execute_result"
    }
   ],
   "source": [
    "df = pd.DataFrame(results)\n",
    "df.to_csv(\"results.csv\", index=False)\n",
    "df"
   ]
  },
  {
   "cell_type": "code",
   "execution_count": 33,
   "metadata": {},
   "outputs": [
    {
     "data": {
      "text/plain": [
       "Text(0, 0.5, 'time [s]')"
      ]
     },
     "execution_count": 33,
     "metadata": {},
     "output_type": "execute_result"
    },
    {
     "data": {
      "image/png": "[encoded data removed]",
      "text/plain": [
       "<Figure size 640x480 with 1 Axes>"
      ]
     },
     "metadata": {},
     "output_type": "display_data"
    }
   ],
   "source": [
    "df_for_sample = df.query(\"n_features == 1000\").sort_values(\"n_samples\")\n",
    "df_for_sample.plot(x=\"n_samples\", y=[\"np\", \"torch\"], logx=True, logy=False, marker=\"o\")\n",
    "plt.ylabel(\"time [s]\")"
   ]
  },
  {
   "cell_type": "code",
   "execution_count": 35,
   "metadata": {},
   "outputs": [
    {
     "data": {
      "text/plain": [
       "Text(0, 0.5, 'time [s]')"
      ]
     },
     "execution_count": 35,
     "metadata": {},
     "output_type": "execute_result"
    },
    {
     "data": {
      "image/png": "[encoded data removed]",
      "text/plain": [
       "<Figure size 640x480 with 1 Axes>"
      ]
     },
     "metadata": {},
     "output_type": "display_data"
    }
   ],
   "source": [
    "df_for_feature = df.query(\"n_samples == 1000\").sort_values(\"n_features\")\n",
    "df_for_feature.plot(\n",
    "    x=\"n_features\", y=[\"np\", \"torch\"], logx=True, logy=False, marker=\"o\"\n",
    ")\n",
    "plt.ylabel(\"time [s]\")"
   ]
  }
 ],
 "metadata": {
  "kernelspec": {
   "display_name": "mamba",
   "language": "python",
   "name": "python3"
  },
  "language_info": {
   "codemirror_mode": {
    "name": "ipython",
    "version": 3
   },
   "file_extension": ".py",
   "mimetype": "text/x-python",
   "name": "python",
   "nbconvert_exporter": "python",
   "pygments_lexer": "ipython3",
   "version": "3.13.0"
  }
 },
 "nbformat": 4,
 "nbformat_minor": 2
}
